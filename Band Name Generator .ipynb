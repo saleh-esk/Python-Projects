{
 "cells": [
  {
   "cell_type": "markdown",
   "id": "ecbd772a-8254-4786-b202-016045adc01d",
   "metadata": {},
   "source": [
    "Band Name Generator\n",
    "Welcome to the Band Name Generator! This simple Python program prompts users to input the city they grew up in and the name of a pet, combining these elements to generate a unique band name. It's a fun and interactive way to inspire creativity and generate amusing band name ideas.\n",
    "\n",
    "How it works:\n",
    "Greeting: The program starts with a friendly welcome message.\n",
    "User Input: Users are prompted to enter the city they grew up in and the name of a pet.\n",
    "Band Name Generation: The program combines the user's input to create a band name suggestion.\n",
    "Output: The generated band name is displayed to the user.\n",
    "Why use the Band Name Generator:\n",
    "Creativity: Kickstart your creative process with unique and unexpected band name ideas.\n",
    "Fun: Enjoy a lighthearted and entertaining experience while generating band names.\n",
    "Python Practice: Ideal for Python beginners as a simple project to practice input handling and string manipulation.\n",
    "Feel free to contribute, modify, or enhance this Band Name Generator. Let the naming creativity begin!"
   ]
  },
  {
   "cell_type": "code",
   "execution_count": null,
   "id": "124ae8b6-14f8-4abf-9456-7d6ca6c94f35",
   "metadata": {},
   "outputs": [
    {
     "name": "stdout",
     "output_type": "stream",
     "text": [
      "Welcome to the band name generator.\n"
     ]
    }
   ],
   "source": [
    "# 1. Create a greeting for your program.\n",
    "print(\"Welcome to the band name generator.\")\n",
    "\n",
    "# 2. Ask the user for the city that they grew up in.\n",
    "city = input(\"Which city did you grow up in? \")\n",
    "\n",
    "# 3. Ask the user for the name of a pet.\n",
    "pet = input(\"What is the name of a pet? \")\n",
    "\n",
    "# 4. Combine the name of their city and pet and show them their band name.\n",
    "print(\"Your band name could be \" + city + \" \" + pet)"
   ]
  },
  {
   "cell_type": "code",
   "execution_count": null,
   "id": "a4886c2a-ae22-4c26-b2cb-aada4a20f590",
   "metadata": {},
   "outputs": [],
   "source": []
  }
 ],
 "metadata": {
  "kernelspec": {
   "display_name": "Python 3 (ipykernel)",
   "language": "python",
   "name": "python3"
  },
  "language_info": {
   "codemirror_mode": {
    "name": "ipython",
    "version": 3
   },
   "file_extension": ".py",
   "mimetype": "text/x-python",
   "name": "python",
   "nbconvert_exporter": "python",
   "pygments_lexer": "ipython3",
   "version": "3.11.5"
  }
 },
 "nbformat": 4,
 "nbformat_minor": 5
}
